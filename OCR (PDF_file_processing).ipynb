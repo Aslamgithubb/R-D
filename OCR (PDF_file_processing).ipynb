{
 "metadata": {
  "language_info": {
   "codemirror_mode": {
    "name": "ipython",
    "version": 3
   },
   "file_extension": ".py",
   "mimetype": "text/x-python",
   "name": "python",
   "nbconvert_exporter": "python",
   "pygments_lexer": "ipython3",
   "version": "3.7.6"
  },
  "orig_nbformat": 2,
  "kernelspec": {
   "name": "python376jvsc74a57bd07f570ec3329d911ce9ed605d4c8f39251ff77ba174fc6d41fb733a74a53b08d0",
   "display_name": "Python 3.7.6 64-bit (conda)"
  }
 },
 "nbformat": 4,
 "nbformat_minor": 2,
 "cells": [
  {
   "cell_type": "code",
   "execution_count": 8,
   "metadata": {},
   "outputs": [],
   "source": [
    "# Import libraries \n",
    "import nltk\n",
    "from nltk.tokenize import word_tokenize, sent_tokenize, regexp_tokenize\n",
    "import pandas as pd\n",
    "import re\n",
    "from nltk.corpus import stopwords\n",
    "from nltk.stem import WordNetLemmatizer\n",
    "import csv\n",
    "import os"
   ]
  },
  {
   "source": [
    " # rename pdf file"
   ],
   "cell_type": "markdown",
   "metadata": {}
  },
  {
   "cell_type": "code",
   "execution_count": 21,
   "metadata": {},
   "outputs": [],
   "source": [
    "path_pdf = os.chdir(\"C:\\\\Users\\\\user\\\\Desktop\\\\Samples\\\\PDF\")\n",
    "i = 1\n",
    "for image in os.listdir(path_pdf):\n",
    "    new_name=\"Sample_{}.pdf\".format(i)\n",
    "    os.rename(image,new_name)\n",
    "\n",
    "    i +=1\n",
    "print(\"Files Renamed\")"
   ]
  },
  {
   "source": [
    "# test the one pdf to png "
   ],
   "cell_type": "markdown",
   "metadata": {}
  },
  {
   "cell_type": "code",
   "execution_count": null,
   "metadata": {},
   "outputs": [],
   "source": [
    "\n",
    "#PDF_file = \"C:\\\\Users\\\\user\\\\Desktop\\\\PDF\\\\Sample_1.pdf\"\n",
    "#pages = convert_from_path(PDF_file,400)\n",
    "#for page in pages:\n",
    "#    filename = \"C:\\\\Users\\\\user\\\\Desktop\\\\Sample2.jpg\"\n",
    "#    page.save(filename,\"JPEG\")"
   ]
  },
  {
   "source": [
    "# PDF to PNG"
   ],
   "cell_type": "markdown",
   "metadata": {}
  },
  {
   "cell_type": "code",
   "execution_count": 8,
   "metadata": {},
   "outputs": [],
   "source": [
    "image_counter = 1\n",
    "\n",
    "PDF_file = os.chdir(\"C:\\\\Users\\\\user\\\\Desktop\\\\Samples\\\\PDF\")\n",
    "for item in os.listdir(PDF_file):\n",
    "\n",
    "    pages = convert_from_path(item,400)\n",
    "    for page in pages:\n",
    "        filename = \"C:\\\\Users\\\\user\\\\Desktop\\\\Samples\\\\Pdf_converted_Images\\\\Image_\"+str(image_counter)+\".jpg\"\n",
    "        page.save(filename,\"JPEG\")\n",
    "        image_counter = image_counter + 1\n",
    "\n",
    "print(\"Converted all files\")"
   ]
  },
  {
   "source": [
    "# Filter the Image"
   ],
   "cell_type": "markdown",
   "metadata": {}
  },
  {
   "cell_type": "code",
   "execution_count": 13,
   "metadata": {},
   "outputs": [
    {
     "output_type": "stream",
     "name": "stdout",
     "text": [
      "Process is Done\n"
     ]
    }
   ],
   "source": [
    "i = 1\n",
    "path_image = os.chdir(\"C:\\\\Users\\\\user\\\\Desktop\\\\Samples\\\\Pdf_converted_Images\")\n",
    "for image in os.listdir(path_image):\n",
    "    \n",
    "    # Color filer\n",
    "    img = cv2.imread(image)\n",
    "    imgGray = cv2.cvtColor(img, cv2.COLOR_RGB2GRAY)\n",
    "    _,thresh = cv2.threshold(imgGray,240,255,cv2.THRESH_BINARY)\n",
    "    \n",
    "    # Image Resize\n",
    "    scale_percent = 0.2\n",
    "    weight = int(thresh.shape[1]*scale_percent)\n",
    "    height = int(thresh.shape[0]*scale_percent)\n",
    "    deminsion = (weight,height)\n",
    "\n",
    "    # Crop top and bottom unwanted text deminsion\n",
    "    imgResized = cv2.resize(thresh, deminsion, interpolation=cv2.INTER_AREA)\n",
    "    imgCropped = imgResized[58:1300,0:936]\n",
    "\n",
    "\n",
    "    cv2.imwrite(\"C:\\\\Users\\\\user\\\\Desktop\\\\Samples\\\\PDF_Filter_Image\\\\PDF_FilterImage_\"+str(i)+\".jpg\",imgCropped)\n",
    "    i += 1\n",
    "\n",
    "print(\"Process is Done\")"
   ]
  },
  {
   "source": [
    "# Text Extraction from images"
   ],
   "cell_type": "markdown",
   "metadata": {}
  },
  {
   "cell_type": "code",
   "execution_count": 14,
   "metadata": {},
   "outputs": [
    {
     "output_type": "stream",
     "name": "stdout",
     "text": [
      "Texts are Extracted\n"
     ]
    }
   ],
   "source": [
    "outfile = \"C:\\\\Users\\\\user\\Desktop\\\\Samples\\\\Text Extracted file\\\\PDF_FilterImages_Text.txt\"\n",
    "f = open(outfile, \"a+\")\n",
    "\n",
    "path_image = os.chdir(\"C:\\\\Users\\\\user\\\\Desktop\\\\Samples\\\\PDF_Filter_Image\")\n",
    "count =len(os.listdir(path_image))\n",
    "\n",
    "\n",
    "for i in range(1, count+1): \n",
    "   \n",
    "    filename = \"C:\\\\Users\\\\user\\\\Desktop\\\\Samples\\\\PDF_Filter_Image\\\\PDF_FilterImage_\"+str(i)+\".jpg\" \n",
    "    text = str(((pytesseract.image_to_string(Image.open(filename)))))  \n",
    "    f.write(\"new line\\n\")    \n",
    "   \n",
    "    f.write(text) \n",
    "f.close()\n",
    "print(\"Texts are Extracted\")"
   ]
  },
  {
   "cell_type": "code",
   "execution_count": 5,
   "metadata": {},
   "outputs": [],
   "source": [
    "with open(\"C:\\\\Users\\\\user\\Desktop\\\\Samples\\\\Text Extracted file\\\\PDF_FilterImages_Text.txt\", \"r\") as filename:\n",
    "    lines = filename.readlines()"
   ]
  },
  {
   "cell_type": "code",
   "execution_count": 6,
   "metadata": {},
   "outputs": [],
   "source": [
    "newline = \"\\n\".join ([line.strip() for line in lines])"
   ]
  },
  {
   "cell_type": "code",
   "execution_count": 15,
   "metadata": {},
   "outputs": [],
   "source": [
    "lst = []\n",
    "for line in newline.split(\"new line\"):\n",
    "    if not line.strip():\n",
    "            continue\n",
    "    lst.append(line.lstrip().lower())\n",
    "newlist = [new.replace(\"\\n\", \" \") for new in lst]"
   ]
  },
  {
   "cell_type": "code",
   "execution_count": 16,
   "metadata": {},
   "outputs": [
    {
     "output_type": "execute_result",
     "data": {
      "text/plain": [
       "['5 shop rooms for sale cence    type: sell price : negotiable    additional information matara @ railway station road, adjacent to commercial bank newly built single floor 5 shop rooms for sale. bank accepted deeds. 0717202058  posted on : il mar 2021186 om,      contact : 0717202058      click to show phone no: ref 1693944   ',\n",
       " 'lien sete d  tissamaharama chaarya cence  kdk  since 1909  ‘type: sell price : negotiable  additional information  tissamaharama chaarya (chandrika) hotel opposite 40p. land area new tourist resort luxury cottage with restaurant 3p. power 100ft tube well, neem heaven cottage tourist board approved during this month hammer willbe put down. free hold deeds. 0774449337, 0772559337.  posted on : 03 mar 2021 1:21 pm  1774449337          contact    click to show phone no: ref: 1691419   ',\n",
       " 'luxury apartments      type: rent/lease price : rs.105,000.00    additional information  highly residential area just smin away from gateway internationa school, all the luxuries with furniture and privacy guaranteed  posted on: 27 mar 2021 1:03 pm      click to show phone ne: ref : 1697269, ',\n",
       " 'luaury house for sale ja-ela    type: sell beds rooms - 6  land extent ~ 80 perch baths ~ 5 bathrooms price: negotiable  features: kitchen pantry cc  additional information  land extent 50 perches with 6 bedrooms and 5 washrooms, seperate quarters for servant and driver. 16 cctv cameras, 3 pantry and one kitchen, solar hot water for all washrooms parapet wall right around the entire land. 5 minutes distance to colombo --katunayaka highway entrance, walking distance to all govt.institutions in ja-ela house completed in 2015.  ‘second land from ja-ela colombo main road. price: 90 mn  call 0777258280  posted on : 26 feb 2021 142. am  contoct : 0777258280  ref : 1690194  click to show phone no: ',\n",
       " 'maharagama qoupie storied nouse ror — sale    type: sell price: negotiable  features:  additional information  maharagama 500m to 341 kottawa 255 road on mawattara lane 13p land and fully completed newly built non occupied double storied house with 6 rooms for sale, 225 lkhs 0779212183  posted on : 02 mar 202112:42 pm        contact 20779212183    click to show phone ne: ref : 1691033 ']"
      ]
     },
     "metadata": {},
     "execution_count": 16
    }
   ],
   "source": [
    "newlist[:5]"
   ]
  },
  {
   "cell_type": "code",
   "execution_count": 17,
   "metadata": {},
   "outputs": [
    {
     "output_type": "execute_result",
     "data": {
      "text/plain": [
       "266"
      ]
     },
     "metadata": {},
     "execution_count": 17
    }
   ],
   "source": [
    "len(newlist)"
   ]
  },
  {
   "cell_type": "code",
   "execution_count": 18,
   "metadata": {},
   "outputs": [
    {
     "output_type": "execute_result",
     "data": {
      "text/plain": [
       "'!\"#$%&\\'()*+,-./:;<=>?@[\\\\]^_`{|}~'"
      ]
     },
     "metadata": {},
     "execution_count": 18
    }
   ],
   "source": [
    "import string\n",
    "string.punctuation"
   ]
  },
  {
   "cell_type": "code",
   "execution_count": 19,
   "metadata": {},
   "outputs": [],
   "source": [
    "def clean(text):\n",
    "    text_punc = \"\".join([word for word in text if word not in string.punctuation])\n",
    "    return text_punc"
   ]
  },
  {
   "cell_type": "code",
   "execution_count": 20,
   "metadata": {},
   "outputs": [
    {
     "output_type": "execute_result",
     "data": {
      "text/plain": [
       "'5 shop rooms for sale cence    type sell price  negotiable    additional information matara  railway station road adjacent to commercial bank newly built single floor 5 shop rooms for sale bank accepted deeds 0717202058  posted on  il mar 2021186 om      contact  0717202058      click to show phone no ref 1693944   '"
      ]
     },
     "metadata": {},
     "execution_count": 20
    }
   ],
   "source": [
    "clean(newlist[0])"
   ]
  },
  {
   "cell_type": "code",
   "execution_count": null,
   "metadata": {},
   "outputs": [],
   "source": []
  }
 ]
}