{
 "metadata": {
  "language_info": {
   "codemirror_mode": {
    "name": "ipython",
    "version": 3
   },
   "file_extension": ".py",
   "mimetype": "text/x-python",
   "name": "python",
   "nbconvert_exporter": "python",
   "pygments_lexer": "ipython3",
   "version": "3.7.6"
  },
  "orig_nbformat": 2,
  "kernelspec": {
   "name": "python376jvsc74a57bd07f570ec3329d911ce9ed605d4c8f39251ff77ba174fc6d41fb733a74a53b08d0",
   "display_name": "Python 3.7.6 64-bit (conda)"
  }
 },
 "nbformat": 4,
 "nbformat_minor": 2,
 "cells": [
  {
   "cell_type": "code",
   "execution_count": 24,
   "metadata": {},
   "outputs": [],
   "source": [
    "import cv2\n",
    "import pytesseract\n",
    "from PIL import Image  \n",
    "import os"
   ]
  },
  {
   "cell_type": "code",
   "execution_count": 1,
   "metadata": {},
   "outputs": [],
   "source": [
    "# Color Filter to images"
   ]
  },
  {
   "cell_type": "code",
   "execution_count": 20,
   "metadata": {},
   "outputs": [
    {
     "output_type": "stream",
     "name": "stdout",
     "text": [
      "Done\n"
     ]
    }
   ],
   "source": [
    "i = 1\n",
    "path_image = os.chdir(\"C:\\\\Users\\\\user\\\\Desktop\\\\Samples\\\\RGB Image\")\n",
    "for image in os.listdir(path_image):\n",
    "\n",
    "    img = cv2.imread(image)\n",
    "    img = cv2.cvtColor(img, cv.COLOR_RGB2GRAY)\n",
    "    result=cv.adaptiveThreshold(img,255,cv2.ADAPTIVE_THRESH_GAUSSIAN_C,cv2.THRESH_BINARY,81,4)\n",
    "\n",
    "    cv2.imwrite(\"C:\\\\Users\\\\user\\\\Desktop\\\\Samples\\\\Gray_Image\\\\GrayImage_\"+str(i)+\".jpg\",result)\n",
    "    i += 1\n",
    "    \n",
    "print(\"Done\")\n",
    "\n",
    "#cv2.imshow(\"image\",adaptive)\n",
    "#cv2.waitKey(0)\n",
    "#cv2.destroyAllWindows()"
   ]
  },
  {
   "source": [
    "# Text Extraction"
   ],
   "cell_type": "markdown",
   "metadata": {}
  },
  {
   "cell_type": "code",
   "execution_count": 29,
   "metadata": {},
   "outputs": [],
   "source": [
    "outfile = \"C:\\\\Users\\\\user\\Desktop\\\\Samples\\\\Text Extracted file\\\\GrayImage_Text.txt\"\n",
    "f = open(outfile, \"a+\")\n",
    "\n",
    "path_image = os.chdir(\"C:\\\\Users\\\\user\\\\Desktop\\\\Samples\\\\Gray_Image\")\n",
    "count =len(os.listdir(path_image))\n",
    "\n",
    "\n",
    "for i in range(1, count+1): \n",
    "   \n",
    "    filename = \"C:\\\\Users\\\\user\\\\Desktop\\\\Samples\\\\Gray_Image\\\\GrayImage_\"+str(i)+\".jpg\" \n",
    "    text = str(((pytesseract.image_to_string(Image.open(filename)))))  \n",
    "    f.write(\"new line\\n\")    \n",
    "   \n",
    "    f.write(text) \n",
    "f.close()"
   ]
  },
  {
   "source": [
    "# Text Cleaning"
   ],
   "cell_type": "markdown",
   "metadata": {}
  },
  {
   "cell_type": "code",
   "execution_count": 30,
   "metadata": {},
   "outputs": [],
   "source": [
    "with open(\"C:\\\\Users\\\\user\\Desktop\\\\Samples\\\\Text Extracted file\\\\GrayImage_Text.txt\", \"r\") as filename:\n",
    "    lines = filename.readlines()"
   ]
  },
  {
   "cell_type": "code",
   "execution_count": 31,
   "metadata": {},
   "outputs": [],
   "source": [
    "newline = \"\\n\".join ([line.strip() for line in lines])"
   ]
  },
  {
   "cell_type": "code",
   "execution_count": 32,
   "metadata": {},
   "outputs": [],
   "source": [
    "lst = []\n",
    "for line in newline.split(\"new line\"):\n",
    "    if not line.strip():\n",
    "            continue\n",
    "    lst.append(line.lstrip().lower())\n",
    "newlist = [new.replace(\"\\n\", \" \") for new in lst]"
   ]
  },
  {
   "cell_type": "code",
   "execution_count": 34,
   "metadata": {},
   "outputs": [
    {
     "output_type": "execute_result",
     "data": {
      "text/plain": [
       "41"
      ]
     },
     "metadata": {},
     "execution_count": 34
    }
   ],
   "source": [
    "len(newlist)"
   ]
  },
  {
   "cell_type": "code",
   "execution_count": null,
   "metadata": {},
   "outputs": [],
   "source": []
  }
 ]
}